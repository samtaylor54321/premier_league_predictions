{
 "cells": [
  {
   "cell_type": "code",
   "execution_count": 49,
   "id": "6d4f1a97",
   "metadata": {},
   "outputs": [],
   "source": [
    "import pandas as pd"
   ]
  },
  {
   "cell_type": "code",
   "execution_count": 55,
   "id": "397ebbb7",
   "metadata": {},
   "outputs": [],
   "source": [
    "euro_data = pd.read_csv('~/Desktop/input_data.csv')"
   ]
  },
  {
   "cell_type": "code",
   "execution_count": 56,
   "id": "9e144fd0",
   "metadata": {},
   "outputs": [],
   "source": [
    "euro_data = euro_data.set_index('Team')"
   ]
  },
  {
   "cell_type": "code",
   "execution_count": 57,
   "id": "713e2d8b",
   "metadata": {},
   "outputs": [],
   "source": [
    "def fixture_builder(results_dataframe, home_team, away_team):\n",
    "    \n",
    "    home_team_data = results_dataframe.loc[[home_team]].reset_index().drop(['Team'], axis=1)\n",
    "    home_team_data.columns = [column + \"_home_team\" for column in results_dataframe.columns.values]\n",
    "    \n",
    "    away_team_data = results_dataframe.loc[[home_team]].reset_index().drop(['Team'], axis=1)\n",
    "    away_team_data.columns = [column + \"_away_team\" for column in results_dataframe.columns.values]\n",
    "    \n",
    "    fixture = pd.concat([home_team_data, away_team_data], axis=1)\n",
    "    \n",
    "    return fixture"
   ]
  },
  {
   "cell_type": "code",
   "execution_count": 64,
   "id": "d72bf5d8",
   "metadata": {},
   "outputs": [],
   "source": [
    "week_31_fixtures = pd.DataFrame(columns = ['ppg_home_team', 'recent_ppg_home_team', 'home_ppg_home_team',\n",
    " 'away_ppg_home_team', 'goals_scored_home_team', 'goals_conceded_home_team', 'oppg_home_team',\n",
    " 'ppg_away_team', 'recent_ppg_away_team', 'home_ppg_away_team',\n",
    " 'away_ppg_away_team', 'goals_scored_away_team', 'goals_conceded_away_team', 'oppg_away_team'])\n",
    "\n",
    "week_31_home = ['Belgium']\n",
    "week_31_away = ['France']\n",
    "\n",
    "rows = []\n",
    "index = []\n",
    "\n",
    "for current_week_home, current_week_away in zip(week_31_home, week_31_away):\n",
    "    rows.append(fixture_builder(euro_data, current_week_home, current_week_away))\n",
    "    index.append(current_week_home + \" vs \" + current_week_away)\n",
    "    \n",
    "    \n",
    "for row in rows:\n",
    "    week_31_fixtures = week_31_fixtures.append(row)"
   ]
  },
  {
   "cell_type": "code",
   "execution_count": 65,
   "id": "f0ee2bdb",
   "metadata": {},
   "outputs": [],
   "source": [
    "week_31_fixtures.index = index"
   ]
  },
  {
   "cell_type": "code",
   "execution_count": 66,
   "id": "06c2de59",
   "metadata": {},
   "outputs": [],
   "source": [
    "week_31_fixtures.to_csv(\"/Users/sam/Documents/projects/premier_league_predictions/current_gameweek.csv\")"
   ]
  }
 ],
 "metadata": {
  "kernelspec": {
   "display_name": "Python 3",
   "language": "python",
   "name": "python3"
  },
  "language_info": {
   "codemirror_mode": {
    "name": "ipython",
    "version": 3
   },
   "file_extension": ".py",
   "mimetype": "text/x-python",
   "name": "python",
   "nbconvert_exporter": "python",
   "pygments_lexer": "ipython3",
   "version": "3.6.10"
  }
 },
 "nbformat": 4,
 "nbformat_minor": 5
}
